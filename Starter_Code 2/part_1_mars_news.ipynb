{
 "cells": [
  {
   "cell_type": "markdown",
   "metadata": {},
   "source": [
    "# Module 12 Challenge\n",
    "## Deliverable 1: Scrape Titles and Preview Text from Mars News"
   ]
  },
  {
   "cell_type": "code",
   "execution_count": 7,
   "metadata": {},
   "outputs": [],
   "source": [
    "# Import Splinter and BeautifulSoup\n",
    "from splinter import Browser\n",
    "from bs4 import BeautifulSoup as soup"
   ]
  },
  {
   "cell_type": "code",
   "execution_count": 8,
   "metadata": {
    "scrolled": true
   },
   "outputs": [],
   "source": [
    "browser = Browser('chrome')"
   ]
  },
  {
   "cell_type": "markdown",
   "metadata": {},
   "source": [
    "### Step 1: Visit the Website\n",
    "\n",
    "1. Use automated browsing to visit the [Mars news site](https://static.bc-edx.com/data/web/mars_news/index.html). Inspect the page to identify which elements to scrape.\n",
    "\n",
    "      > **Hint** To identify which elements to scrape, you might want to inspect the page by using Chrome DevTools."
   ]
  },
  {
   "cell_type": "code",
   "execution_count": 9,
   "metadata": {},
   "outputs": [],
   "source": [
    "# Visit the Mars news site\n",
    "url = 'https://static.bc-edx.com/data/web/mars_news/index.html'\n",
    "browser.visit(url)"
   ]
  },
  {
   "cell_type": "markdown",
   "metadata": {},
   "source": [
    "### Step 2: Scrape the Website\n",
    "\n",
    "Create a Beautiful Soup object and use it to extract text elements from the website."
   ]
  },
  {
   "cell_type": "code",
   "execution_count": 12,
   "metadata": {},
   "outputs": [],
   "source": [
    "# Create a Beautiful Soup object\n",
    "html = browser.html\n"
   ]
  },
  {
   "cell_type": "code",
   "execution_count": 15,
   "metadata": {},
   "outputs": [],
   "source": [
    "from bs4 import BeautifulSoup\n",
    "\n",
    "\n",
    "soup = BeautifulSoup(html, 'html.parser')"
   ]
  },
  {
   "cell_type": "code",
   "execution_count": 49,
   "metadata": {},
   "outputs": [
    {
     "name": "stdout",
     "output_type": "stream",
     "text": [
      "\n",
      "November 9, 2022\n",
      "NASA's MAVEN Observes Martian Light Show Caused by Major Solar Storm\n",
      "For the first time in its eight years orbiting Mars, NASA’s MAVEN mission witnessed two different types of ultraviolet aurorae simultaneously, the result of solar storms that began on Aug. 27.\n",
      "\n",
      "\n",
      "November 1, 2022\n",
      "NASA Prepares to Say 'Farewell' to InSight Spacecraft\n",
      "A closer look at what goes into wrapping up the mission as the spacecraft’s power supply continues to dwindle.\n",
      "\n",
      "\n",
      "October 28, 2022\n",
      "NASA and ESA Agree on Next Steps to Return Mars Samples to Earth\n",
      "The agency’s Perseverance rover will establish the first sample depot on Mars.\n",
      "\n",
      "\n",
      "October 27, 2022\n",
      "NASA's InSight Lander Detects Stunning Meteoroid Impact on Mars\n",
      "The agency’s lander felt the ground shake during the impact while cameras aboard the Mars Reconnaissance Orbiter spotted the yawning new crater from space.\n",
      "\n",
      "\n",
      "October 21, 2022\n",
      "NASA To Host Briefing on InSight, Mars Reconnaissance Orbiter Findings\n",
      "Scientists from two Mars missions will discuss how they combined images and data for a major finding on the Red Planet.\n",
      "\n",
      "\n",
      "October 20, 2022\n",
      "Why NASA Is Trying To Crash Land on Mars\n",
      "Like a car’s crumple zone, the experimental SHIELD lander is designed to absorb a hard impact.\n",
      "\n",
      "\n",
      "October 19, 2022\n",
      "Curiosity Mars Rover Reaches Long-Awaited Salty Region\n",
      "After years of climbing, the Mars rover has arrived at a special region believed to have formed as Mars’ climate was drying.\n",
      "\n",
      "\n",
      "October 12, 2022\n",
      "Mars Mission Shields Up for Tests\n",
      "Protecting Mars Sample Return spacecraft from micrometeorites requires high-caliber work.\n",
      "\n",
      "\n",
      "October 7, 2022\n",
      "NASA's InSight Waits Out Dust Storm\n",
      "InSight’s team is taking steps to help the solar-powered lander continue operating for as long as possible.\n",
      "\n",
      "\n",
      "September 19, 2022\n",
      "NASA's InSight 'Hears' Its First Meteoroid Impacts on Mars\n",
      "The Mars lander’s seismometer has picked up vibrations from four separate impacts in the past two years.\n",
      "\n",
      "\n",
      "September 15, 2022\n",
      "NASA's Perseverance Rover Investigates Geologically Rich Mars Terrain\n",
      "The latest findings provide greater detail on a region of the Red Planet that has a watery past and is yielding promising samples for the NASA-ESA Mars Sample Return campaign.\n",
      "\n",
      "\n",
      "September 12, 2022\n",
      "NASA to Host Briefing on Perseverance Mars Rover Mission Operations\n",
      "Members of the mission will discuss the rover’s activities as it gathers samples in an ancient river delta.\n",
      "\n",
      "\n",
      "August 25, 2022\n",
      "NASA's Perseverance Makes New Discoveries in Mars' Jezero Crater\n",
      "The rover found that Jezero Crater’s floor is made up of volcanic rocks that have interacted with water.\n",
      "\n",
      "\n",
      "August 5, 2022\n",
      "10 Years Since Landing, NASA's Curiosity Mars Rover Still Has Drive\n",
      "Despite signs of wear, the intrepid spacecraft is about to start an exciting new chapter of its mission as it climbs a Martian mountain.\n",
      "\n",
      "\n",
      "August 4, 2022\n",
      "SAM's Top 5 Discoveries Aboard NASA's Curiosity Rover at Mars\n",
      "“Selfie” of the Curiosity rover with inset showing the SAM instrument prior to installation on the rover.\n",
      "\n"
     ]
    }
   ],
   "source": [
    "# Extract all the text elements\n",
    "all_text = soup.find_all('div',class_=\"list_text\")\n",
    "\n",
    "for texts in all_text:\n",
    "    print(texts.text) "
   ]
  },
  {
   "cell_type": "markdown",
   "metadata": {},
   "source": [
    "### Step 3: Store the Results\n",
    "\n",
    "Extract the titles and preview text of the news articles that you scraped. Store the scraping results in Python data structures as follows:\n",
    "\n",
    "* Store each title-and-preview pair in a Python dictionary. And, give each dictionary two keys: `title` and `preview`. An example is the following:\n",
    "\n",
    "  ```python\n",
    "  {'title': \"NASA's MAVEN Observes Martian Light Show Caused by Major Solar Storm\", \n",
    "   'preview': \"For the first time in its eight years orbiting Mars, NASA’s MAVEN mission witnessed two different types of ultraviolet aurorae simultaneously, the result of solar storms that began on Aug. 27.\"\n",
    "  }\n",
    "  ```\n",
    "\n",
    "* Store all the dictionaries in a Python list.\n",
    "\n",
    "* Print the list in your notebook."
   ]
  },
  {
   "cell_type": "code",
   "execution_count": 50,
   "metadata": {},
   "outputs": [],
   "source": [
    "# Create an empty list to store the dictionaries\n",
    "store_dict = []\n"
   ]
  },
  {
   "cell_type": "code",
   "execution_count": 53,
   "metadata": {},
   "outputs": [],
   "source": [
    "# Loop through the text elements\n",
    "for texts in all_text:\n",
    "    \n",
    "# Extract the title and preview text from the elements\n",
    " title = texts.find('div', class_='content_title').text\n",
    "preview = texts.find('div', class_='article_teaser_body').text\n",
    "# Store each title and preview pair in a dictionary\n",
    "article_dict = {'Title': title,\n",
    "                    'Preview': preview }\n",
    "# Add the dictionary to the list\n",
    "store_dict.append(article_dict)"
   ]
  },
  {
   "cell_type": "code",
   "execution_count": 54,
   "metadata": {},
   "outputs": [
    {
     "data": {
      "text/plain": [
       "{'Title': \"SAM's Top 5 Discoveries Aboard NASA's Curiosity Rover at Mars\",\n",
       " 'Preview': '“Selfie” of the Curiosity rover with inset showing the SAM instrument prior to installation on the rover.'}"
      ]
     },
     "execution_count": 54,
     "metadata": {},
     "output_type": "execute_result"
    }
   ],
   "source": [
    "article_dict"
   ]
  },
  {
   "cell_type": "code",
   "execution_count": 60,
   "metadata": {},
   "outputs": [
    {
     "data": {
      "text/plain": [
       "[{'Title': \"SAM's Top 5 Discoveries Aboard NASA's Curiosity Rover at Mars\",\n",
       "  'Preview': '“Selfie” of the Curiosity rover with inset showing the SAM instrument prior to installation on the rover.'},\n",
       " {'Title': \"SAM's Top 5 Discoveries Aboard NASA's Curiosity Rover at Mars\",\n",
       "  'Preview': '“Selfie” of the Curiosity rover with inset showing the SAM instrument prior to installation on the rover.'}]"
      ]
     },
     "execution_count": 60,
     "metadata": {},
     "output_type": "execute_result"
    }
   ],
   "source": [
    "# Print the list to confirm success\n",
    "store_dict"
   ]
  },
  {
   "cell_type": "code",
   "execution_count": 9,
   "metadata": {},
   "outputs": [],
   "source": [
    "browser.quit()"
   ]
  },
  {
   "cell_type": "code",
   "execution_count": null,
   "metadata": {},
   "outputs": [],
   "source": []
  }
 ],
 "metadata": {
  "kernelspec": {
   "display_name": "base",
   "language": "python",
   "name": "python3"
  },
  "language_info": {
   "codemirror_mode": {
    "name": "ipython",
    "version": 3
   },
   "file_extension": ".py",
   "mimetype": "text/x-python",
   "name": "python",
   "nbconvert_exporter": "python",
   "pygments_lexer": "ipython3",
   "version": "3.9.13"
  },
  "vscode": {
   "interpreter": {
    "hash": "9fd59bc2f25ff9cb5c134abab3189051e16e38165ceb48e1dad4cc89c51afc9c"
   }
  }
 },
 "nbformat": 4,
 "nbformat_minor": 4
}
